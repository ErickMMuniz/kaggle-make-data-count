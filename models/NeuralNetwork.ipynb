{
 "cells": [
  {
   "cell_type": "markdown",
   "id": "8cc5c5fa",
   "metadata": {},
   "source": [
    "# MODELOS"
   ]
  },
  {
   "cell_type": "markdown",
   "id": "42e10e49",
   "metadata": {},
   "source": [
    "## PAQUETERIAS"
   ]
  },
  {
   "cell_type": "code",
   "execution_count": 8,
   "id": "35a0be3b",
   "metadata": {},
   "outputs": [
    {
     "name": "stderr",
     "output_type": "stream",
     "text": [
      "[nltk_data] Downloading package stopwords to\n",
      "[nltk_data]     C:\\Users\\lazar\\AppData\\Roaming\\nltk_data...\n",
      "[nltk_data]   Package stopwords is already up-to-date!\n"
     ]
    }
   ],
   "source": [
    "import pandas as pd\n",
    "import matplotlib.pyplot as plt\n",
    "from sklearn.model_selection import train_test_split\n",
    "import nltk\n",
    "nltk.download('stopwords')\n",
    "from nltk.corpus import stopwords\n",
    "from keras import regularizers\n",
    "from sklearn.feature_extraction.text import CountVectorizer\n",
    "import re\n",
    "import tensorflow as tf \n",
    "import matplotlib.pyplot as plt\n",
    "import seaborn as sns\n",
    "\n",
    "\n",
    "stopwords = set(stopwords.words(\"english\"))"
   ]
  },
  {
   "cell_type": "markdown",
   "id": "f5c54b24",
   "metadata": {},
   "source": [
    "## LECTURA DE DATOS"
   ]
  },
  {
   "cell_type": "code",
   "execution_count": 9,
   "id": "b15b4fed",
   "metadata": {},
   "outputs": [
    {
     "data": {
      "text/html": [
       "<div>\n",
       "<style scoped>\n",
       "    .dataframe tbody tr th:only-of-type {\n",
       "        vertical-align: middle;\n",
       "    }\n",
       "\n",
       "    .dataframe tbody tr th {\n",
       "        vertical-align: top;\n",
       "    }\n",
       "\n",
       "    .dataframe thead th {\n",
       "        text-align: right;\n",
       "    }\n",
       "</style>\n",
       "<table border=\"1\" class=\"dataframe\">\n",
       "  <thead>\n",
       "    <tr style=\"text-align: right;\">\n",
       "      <th></th>\n",
       "      <th>article_id</th>\n",
       "      <th>dataset_id</th>\n",
       "      <th>type</th>\n",
       "      <th>surrounding_text</th>\n",
       "      <th>relative_location</th>\n",
       "    </tr>\n",
       "  </thead>\n",
       "  <tbody>\n",
       "    <tr>\n",
       "      <th>0</th>\n",
       "      <td>10.1002_2017jc013030</td>\n",
       "      <td>https://doi.org/10.17882/49388</td>\n",
       "      <td>Primary</td>\n",
       "      <td>Biogeochemical Argo oat measurements for bioge...</td>\n",
       "      <td>0.628737</td>\n",
       "    </tr>\n",
       "    <tr>\n",
       "      <th>1</th>\n",
       "      <td>10.1002_ece3.5260</td>\n",
       "      <td>https://doi.org/10.5061/dryad.2f62927</td>\n",
       "      <td>Primary</td>\n",
       "      <td>design experiments and Adephaga_2.9Kv1 final p...</td>\n",
       "      <td>0.747107</td>\n",
       "    </tr>\n",
       "    <tr>\n",
       "      <th>2</th>\n",
       "      <td>10.1002_ecs2.1280</td>\n",
       "      <td>https://doi.org/10.5061/dryad.p3fg9</td>\n",
       "      <td>Primary</td>\n",
       "      <td>Data associated with this paper have been depo...</td>\n",
       "      <td>0.994695</td>\n",
       "    </tr>\n",
       "    <tr>\n",
       "      <th>3</th>\n",
       "      <td>10.1007_s00259-022-06053-8</td>\n",
       "      <td>https://doi.org/10.7937/tcia.2019.30ilqfcl</td>\n",
       "      <td>Secondary</td>\n",
       "      <td>from the ACRIN 6668 Trial NSCLC-FDG-PET. Cance...</td>\n",
       "      <td>0.841804</td>\n",
       "    </tr>\n",
       "    <tr>\n",
       "      <th>4</th>\n",
       "      <td>10.1016_j.jobe.2023.107105</td>\n",
       "      <td>https://doi.org/10.5281/zenodo.8014150</td>\n",
       "      <td>Primary</td>\n",
       "      <td>and Anh [30] further explored crack 1 Dataset ...</td>\n",
       "      <td>0.179820</td>\n",
       "    </tr>\n",
       "  </tbody>\n",
       "</table>\n",
       "</div>"
      ],
      "text/plain": [
       "                   article_id                                  dataset_id  \\\n",
       "0        10.1002_2017jc013030              https://doi.org/10.17882/49388   \n",
       "1           10.1002_ece3.5260       https://doi.org/10.5061/dryad.2f62927   \n",
       "2           10.1002_ecs2.1280         https://doi.org/10.5061/dryad.p3fg9   \n",
       "3  10.1007_s00259-022-06053-8  https://doi.org/10.7937/tcia.2019.30ilqfcl   \n",
       "4  10.1016_j.jobe.2023.107105      https://doi.org/10.5281/zenodo.8014150   \n",
       "\n",
       "        type                                   surrounding_text  \\\n",
       "0    Primary  Biogeochemical Argo oat measurements for bioge...   \n",
       "1    Primary  design experiments and Adephaga_2.9Kv1 final p...   \n",
       "2    Primary  Data associated with this paper have been depo...   \n",
       "3  Secondary  from the ACRIN 6668 Trial NSCLC-FDG-PET. Cance...   \n",
       "4    Primary  and Anh [30] further explored crack 1 Dataset ...   \n",
       "\n",
       "   relative_location  \n",
       "0           0.628737  \n",
       "1           0.747107  \n",
       "2           0.994695  \n",
       "3           0.841804  \n",
       "4           0.179820  "
      ]
     },
     "execution_count": 9,
     "metadata": {},
     "output_type": "execute_result"
    }
   ],
   "source": [
    "data = pd.read_csv(\"../data/processed_articles.csv\")\n",
    "data.head()"
   ]
  },
  {
   "cell_type": "markdown",
   "id": "e662e7f8",
   "metadata": {},
   "source": [
    "## LIMPIEZA DE DATOS "
   ]
  },
  {
   "cell_type": "markdown",
   "id": "3de8a8eb",
   "metadata": {},
   "source": [
    "Definimos las funciones que nos ayudaran a obtener los tokens sin datos extra "
   ]
  },
  {
   "cell_type": "code",
   "execution_count": 10,
   "id": "55ebc32c",
   "metadata": {},
   "outputs": [],
   "source": [
    "def remove_stopwords(text):\n",
    "    for i in stopwords:\n",
    "        text = re.sub(r\"\\b%s\\b\" % i, \" \", text)\n",
    "    return text\n",
    "\n",
    "def clean_tokens(text): \n",
    "    '''\n",
    "    Esta función limpia textos\n",
    "    '''\n",
    "\n",
    "    text = text.lower()\n",
    "\n",
    "    text = remove_stopwords(text)\n",
    "\n",
    "    text = re.sub(r\"\\d+\", '', text)\n",
    "\n",
    "    text = re.sub(r\"\", '', text)\n",
    "\n",
    "    text = re.sub(r\" +\", \" \", re.sub(r\"\\t\", \" \", re.sub(r\"\\n+\", \"\\n\", re.sub(r'(?:[.,\\/!$%?¿?!¡\\^&\\*;:\\[\\]{}=><\\-_`~()”“\"\\'\\|])', \"\", text))))\n",
    "\n",
    "    text = text.strip()\n",
    "\n",
    "    return text  \n",
    "\n",
    "def numerical_type(text):\n",
    "\n",
    "    text = text.lower()\n",
    "\n",
    "    text = re.sub(r\"primary\", '0', text)\n",
    "\n",
    "    text = re.sub(r\"secondary\", '1', text)\n",
    "\n",
    "    text = text.strip()\n",
    "\n",
    "    return text  "
   ]
  },
  {
   "cell_type": "code",
   "execution_count": 11,
   "id": "a307c6c0",
   "metadata": {},
   "outputs": [
    {
     "data": {
      "text/html": [
       "<div>\n",
       "<style scoped>\n",
       "    .dataframe tbody tr th:only-of-type {\n",
       "        vertical-align: middle;\n",
       "    }\n",
       "\n",
       "    .dataframe tbody tr th {\n",
       "        vertical-align: top;\n",
       "    }\n",
       "\n",
       "    .dataframe thead th {\n",
       "        text-align: right;\n",
       "    }\n",
       "</style>\n",
       "<table border=\"1\" class=\"dataframe\">\n",
       "  <thead>\n",
       "    <tr style=\"text-align: right;\">\n",
       "      <th></th>\n",
       "      <th>article_id</th>\n",
       "      <th>dataset_id</th>\n",
       "      <th>type</th>\n",
       "      <th>surrounding_text</th>\n",
       "      <th>relative_location</th>\n",
       "      <th>clean_surrounding_text</th>\n",
       "      <th>numerical_type</th>\n",
       "    </tr>\n",
       "  </thead>\n",
       "  <tbody>\n",
       "    <tr>\n",
       "      <th>0</th>\n",
       "      <td>10.1002_2017jc013030</td>\n",
       "      <td>https://doi.org/10.17882/49388</td>\n",
       "      <td>Primary</td>\n",
       "      <td>Biogeochemical Argo oat measurements for bioge...</td>\n",
       "      <td>0.628737</td>\n",
       "      <td>biogeochemical argo oat measurements biogeoche...</td>\n",
       "      <td>0</td>\n",
       "    </tr>\n",
       "    <tr>\n",
       "      <th>1</th>\n",
       "      <td>10.1002_ece3.5260</td>\n",
       "      <td>https://doi.org/10.5061/dryad.2f62927</td>\n",
       "      <td>Primary</td>\n",
       "      <td>design experiments and Adephaga_2.9Kv1 final p...</td>\n",
       "      <td>0.747107</td>\n",
       "      <td>design experiments adephagakv final probe set ...</td>\n",
       "      <td>0</td>\n",
       "    </tr>\n",
       "    <tr>\n",
       "      <th>2</th>\n",
       "      <td>10.1002_ecs2.1280</td>\n",
       "      <td>https://doi.org/10.5061/dryad.p3fg9</td>\n",
       "      <td>Primary</td>\n",
       "      <td>Data associated with this paper have been depo...</td>\n",
       "      <td>0.994695</td>\n",
       "      <td>data associated paper deposited dryad target d...</td>\n",
       "      <td>0</td>\n",
       "    </tr>\n",
       "    <tr>\n",
       "      <th>3</th>\n",
       "      <td>10.1007_s00259-022-06053-8</td>\n",
       "      <td>https://doi.org/10.7937/tcia.2019.30ilqfcl</td>\n",
       "      <td>Secondary</td>\n",
       "      <td>from the ACRIN 6668 Trial NSCLC-FDG-PET. Cance...</td>\n",
       "      <td>0.841804</td>\n",
       "      <td>acrin trial nsclcfdgpet cancer imaging arch ta...</td>\n",
       "      <td>1</td>\n",
       "    </tr>\n",
       "    <tr>\n",
       "      <th>4</th>\n",
       "      <td>10.1016_j.jobe.2023.107105</td>\n",
       "      <td>https://doi.org/10.5281/zenodo.8014150</td>\n",
       "      <td>Primary</td>\n",
       "      <td>and Anh [30] further explored crack 1 Dataset ...</td>\n",
       "      <td>0.179820</td>\n",
       "      <td>anh explored crack dataset download link targe...</td>\n",
       "      <td>0</td>\n",
       "    </tr>\n",
       "  </tbody>\n",
       "</table>\n",
       "</div>"
      ],
      "text/plain": [
       "                   article_id                                  dataset_id  \\\n",
       "0        10.1002_2017jc013030              https://doi.org/10.17882/49388   \n",
       "1           10.1002_ece3.5260       https://doi.org/10.5061/dryad.2f62927   \n",
       "2           10.1002_ecs2.1280         https://doi.org/10.5061/dryad.p3fg9   \n",
       "3  10.1007_s00259-022-06053-8  https://doi.org/10.7937/tcia.2019.30ilqfcl   \n",
       "4  10.1016_j.jobe.2023.107105      https://doi.org/10.5281/zenodo.8014150   \n",
       "\n",
       "        type                                   surrounding_text  \\\n",
       "0    Primary  Biogeochemical Argo oat measurements for bioge...   \n",
       "1    Primary  design experiments and Adephaga_2.9Kv1 final p...   \n",
       "2    Primary  Data associated with this paper have been depo...   \n",
       "3  Secondary  from the ACRIN 6668 Trial NSCLC-FDG-PET. Cance...   \n",
       "4    Primary  and Anh [30] further explored crack 1 Dataset ...   \n",
       "\n",
       "   relative_location                             clean_surrounding_text  \\\n",
       "0           0.628737  biogeochemical argo oat measurements biogeoche...   \n",
       "1           0.747107  design experiments adephagakv final probe set ...   \n",
       "2           0.994695  data associated paper deposited dryad target d...   \n",
       "3           0.841804  acrin trial nsclcfdgpet cancer imaging arch ta...   \n",
       "4           0.179820  anh explored crack dataset download link targe...   \n",
       "\n",
       "  numerical_type  \n",
       "0              0  \n",
       "1              0  \n",
       "2              0  \n",
       "3              1  \n",
       "4              0  "
      ]
     },
     "execution_count": 11,
     "metadata": {},
     "output_type": "execute_result"
    }
   ],
   "source": [
    "data['clean_surrounding_text'] = data['surrounding_text'].apply(lambda x: clean_tokens(x))\n",
    "data['numerical_type'] = data['type'].apply(lambda x: numerical_type(x))\n",
    "\n",
    "data.head()"
   ]
  },
  {
   "cell_type": "code",
   "execution_count": 12,
   "id": "5ec5a97f",
   "metadata": {},
   "outputs": [
    {
     "name": "stdout",
     "output_type": "stream",
     "text": [
      "Corpus Total 412 412\n"
     ]
    }
   ],
   "source": [
    "X = data['clean_surrounding_text'].fillna(' ')\n",
    "Y = data['numerical_type']\n",
    "print('Corpus Total', len(X), len(Y))"
   ]
  },
  {
   "cell_type": "code",
   "execution_count": 13,
   "id": "eb6bb656",
   "metadata": {},
   "outputs": [
    {
     "data": {
      "text/plain": [
       "0      biogeochemical argo oat measurements biogeoche...\n",
       "1      design experiments adephagakv final probe set ...\n",
       "2      data associated paper deposited dryad target d...\n",
       "3      acrin trial nsclcfdgpet cancer imaging arch ta...\n",
       "4      anh explored crack dataset download link targe...\n",
       "                             ...                        \n",
       "407    june myodes glareolus url june turdus merula t...\n",
       "408    global biodiversity information facility gbif ...\n",
       "409    brook bartlett sites ver environmental data in...\n",
       "410    usa present ver environmental data initiative ...\n",
       "411    jeffers brook stands ver environmental data in...\n",
       "Name: clean_surrounding_text, Length: 412, dtype: object"
      ]
     },
     "execution_count": 13,
     "metadata": {},
     "output_type": "execute_result"
    }
   ],
   "source": [
    "X"
   ]
  },
  {
   "cell_type": "code",
   "execution_count": 14,
   "id": "f6da3e3f",
   "metadata": {},
   "outputs": [
    {
     "data": {
      "text/plain": [
       "0      0\n",
       "1      0\n",
       "2      0\n",
       "3      1\n",
       "4      0\n",
       "      ..\n",
       "407    1\n",
       "408    1\n",
       "409    1\n",
       "410    1\n",
       "411    0\n",
       "Name: numerical_type, Length: 412, dtype: object"
      ]
     },
     "execution_count": 14,
     "metadata": {},
     "output_type": "execute_result"
    }
   ],
   "source": [
    "Y"
   ]
  },
  {
   "cell_type": "code",
   "execution_count": 15,
   "id": "33ace7ae",
   "metadata": {},
   "outputs": [],
   "source": [
    "X_train, X_test, y_train, y_test = train_test_split(X, Y, test_size=0.1, random_state=42, stratify=data['numerical_type'])"
   ]
  },
  {
   "cell_type": "code",
   "execution_count": 16,
   "id": "1ab463ea",
   "metadata": {},
   "outputs": [
    {
     "name": "stdout",
     "output_type": "stream",
     "text": [
      "Corpus Entrenamiento 370 370\n"
     ]
    }
   ],
   "source": [
    "print('Corpus Entrenamiento', len(X_train), len(y_train))"
   ]
  },
  {
   "cell_type": "code",
   "execution_count": 17,
   "id": "fc32c524",
   "metadata": {},
   "outputs": [
    {
     "data": {
      "text/plain": [
       "174                g g r q e esev targetaduckjiangsuhn e\n",
       "279    arrayexpress url following accession numbers e...\n",
       "47     ipr sialidase go digestive enzyme orthos targe...\n",
       "203    c tumor cell lines cell lines tc rridcvcl tc r...\n",
       "266    ipav lif prjna linhai lil prjna hardjo norma g...\n",
       "                             ...                        \n",
       "20     analysis available dryad digital repository ta...\n",
       "105    url gbif b gbif occurrence download accessed d...\n",
       "29     domain unknown function duf function orthos ta...\n",
       "407    june myodes glareolus url june turdus merula t...\n",
       "63     lower right part micrograph causing blurring e...\n",
       "Name: clean_surrounding_text, Length: 370, dtype: object"
      ]
     },
     "execution_count": 17,
     "metadata": {},
     "output_type": "execute_result"
    }
   ],
   "source": [
    "X_train"
   ]
  },
  {
   "cell_type": "code",
   "execution_count": 18,
   "id": "b8e2347b",
   "metadata": {},
   "outputs": [
    {
     "data": {
      "text/plain": [
       "174    0\n",
       "279    1\n",
       "47     1\n",
       "203    1\n",
       "266    1\n",
       "      ..\n",
       "20     0\n",
       "105    1\n",
       "29     1\n",
       "407    1\n",
       "63     1\n",
       "Name: numerical_type, Length: 370, dtype: object"
      ]
     },
     "execution_count": 18,
     "metadata": {},
     "output_type": "execute_result"
    }
   ],
   "source": [
    "y_train"
   ]
  },
  {
   "cell_type": "code",
   "execution_count": 19,
   "id": "edc0a03b",
   "metadata": {},
   "outputs": [],
   "source": [
    "X_train = tf.constant(X_train, dtype=tf.string)\n",
    "X_test = tf.constant(X_test, dtype=tf.string)\n",
    "y_train = tf.constant(y_train, dtype=tf.int32)\n",
    "y_test = tf.constant(y_test, dtype=tf.int32)"
   ]
  },
  {
   "cell_type": "code",
   "execution_count": 20,
   "id": "30743639",
   "metadata": {},
   "outputs": [
    {
     "name": "stdout",
     "output_type": "stream",
     "text": [
      "<class 'pandas.core.frame.DataFrame'>\n",
      "RangeIndex: 412 entries, 0 to 411\n",
      "Data columns (total 7 columns):\n",
      " #   Column                  Non-Null Count  Dtype  \n",
      "---  ------                  --------------  -----  \n",
      " 0   article_id              412 non-null    object \n",
      " 1   dataset_id              412 non-null    object \n",
      " 2   type                    412 non-null    object \n",
      " 3   surrounding_text        412 non-null    object \n",
      " 4   relative_location       412 non-null    float64\n",
      " 5   clean_surrounding_text  412 non-null    object \n",
      " 6   numerical_type          412 non-null    object \n",
      "dtypes: float64(1), object(6)\n",
      "memory usage: 22.7+ KB\n",
      "None\n"
     ]
    },
    {
     "data": {
      "text/plain": [
       "numerical_type\n",
       "1    274\n",
       "0    138\n",
       "Name: count, dtype: int64"
      ]
     },
     "execution_count": 20,
     "metadata": {},
     "output_type": "execute_result"
    }
   ],
   "source": [
    "# Dataframe con los textos (variable indepnediente) como strings y el rating como una variable numérica int64\n",
    "print(data.info())\n",
    "\n",
    "# Analizando la salida de Rating vemos que no tenemos una distribución completa de 0 a 5, aun así generare la red con 6 neuronas de salida\n",
    "data.value_counts('numerical_type')"
   ]
  },
  {
   "cell_type": "code",
   "execution_count": 21,
   "id": "64beb05c",
   "metadata": {},
   "outputs": [],
   "source": [
    "t_vectorize_layer = tf.keras.layers.TextVectorization(max_tokens=3000, \n",
    "                                  standardize='lower_and_strip_punctuation',\n",
    "                                  split='whitespace',\n",
    "                                  ngrams=2,\n",
    "                                  output_mode='int'\n",
    "                                  )\n",
    "\n",
    "t_vectorize_layer.adapt(X_train)"
   ]
  },
  {
   "cell_type": "code",
   "execution_count": 22,
   "id": "f2bf0b74",
   "metadata": {},
   "outputs": [],
   "source": [
    "# Generación del modelo \n",
    "t_inputs = tf.keras.layers.Input(shape=(1,), dtype=tf.string) # Si no declaro el tipo de dato en la capa de entrada, el modelo genera error al llamar la función fit\n",
    "t_vectors = t_vectorize_layer(t_inputs)\n",
    "t_embedding = tf.keras.layers.Embedding(input_dim=t_vectorize_layer.vocabulary_size(), output_dim=300)(t_vectors)\n",
    "t_recurrent = tf.keras.layers.GRU(600, kernel_regularizer=regularizers.l2(3e-4))(t_embedding)\n",
    "t_outputs = tf.keras.layers.Dense(6,activation='softmax')(t_recurrent)"
   ]
  },
  {
   "cell_type": "code",
   "execution_count": 34,
   "id": "2bccfd17",
   "metadata": {},
   "outputs": [],
   "source": [
    "title_model = tf.keras.Model(inputs=t_inputs, outputs=t_outputs)"
   ]
  },
  {
   "cell_type": "code",
   "execution_count": 24,
   "id": "6c093b84",
   "metadata": {},
   "outputs": [
    {
     "data": {
      "text/html": [
       "<pre style=\"white-space:pre;overflow-x:auto;line-height:normal;font-family:Menlo,'DejaVu Sans Mono',consolas,'Courier New',monospace\"><span style=\"font-weight: bold\">Model: \"functional\"</span>\n",
       "</pre>\n"
      ],
      "text/plain": [
       "\u001b[1mModel: \"functional\"\u001b[0m\n"
      ]
     },
     "metadata": {},
     "output_type": "display_data"
    },
    {
     "data": {
      "text/html": [
       "<pre style=\"white-space:pre;overflow-x:auto;line-height:normal;font-family:Menlo,'DejaVu Sans Mono',consolas,'Courier New',monospace\">┏━━━━━━━━━━━━━━━━━━━━━━━━━━━━━━━━━┳━━━━━━━━━━━━━━━━━━━━━━━━┳━━━━━━━━━━━━━━━┓\n",
       "┃<span style=\"font-weight: bold\"> Layer (type)                    </span>┃<span style=\"font-weight: bold\"> Output Shape           </span>┃<span style=\"font-weight: bold\">       Param # </span>┃\n",
       "┡━━━━━━━━━━━━━━━━━━━━━━━━━━━━━━━━━╇━━━━━━━━━━━━━━━━━━━━━━━━╇━━━━━━━━━━━━━━━┩\n",
       "│ input_layer (<span style=\"color: #0087ff; text-decoration-color: #0087ff\">InputLayer</span>)        │ (<span style=\"color: #00d7ff; text-decoration-color: #00d7ff\">None</span>, <span style=\"color: #00af00; text-decoration-color: #00af00\">1</span>)              │             <span style=\"color: #00af00; text-decoration-color: #00af00\">0</span> │\n",
       "├─────────────────────────────────┼────────────────────────┼───────────────┤\n",
       "│ text_vectorization              │ (<span style=\"color: #00d7ff; text-decoration-color: #00d7ff\">None</span>, <span style=\"color: #00d7ff; text-decoration-color: #00d7ff\">None</span>)           │             <span style=\"color: #00af00; text-decoration-color: #00af00\">0</span> │\n",
       "│ (<span style=\"color: #0087ff; text-decoration-color: #0087ff\">TextVectorization</span>)             │                        │               │\n",
       "├─────────────────────────────────┼────────────────────────┼───────────────┤\n",
       "│ embedding (<span style=\"color: #0087ff; text-decoration-color: #0087ff\">Embedding</span>)           │ (<span style=\"color: #00d7ff; text-decoration-color: #00d7ff\">None</span>, <span style=\"color: #00d7ff; text-decoration-color: #00d7ff\">None</span>, <span style=\"color: #00af00; text-decoration-color: #00af00\">300</span>)      │       <span style=\"color: #00af00; text-decoration-color: #00af00\">900,000</span> │\n",
       "├─────────────────────────────────┼────────────────────────┼───────────────┤\n",
       "│ gru (<span style=\"color: #0087ff; text-decoration-color: #0087ff\">GRU</span>)                       │ (<span style=\"color: #00d7ff; text-decoration-color: #00d7ff\">None</span>, <span style=\"color: #00af00; text-decoration-color: #00af00\">600</span>)            │     <span style=\"color: #00af00; text-decoration-color: #00af00\">1,623,600</span> │\n",
       "├─────────────────────────────────┼────────────────────────┼───────────────┤\n",
       "│ dense (<span style=\"color: #0087ff; text-decoration-color: #0087ff\">Dense</span>)                   │ (<span style=\"color: #00d7ff; text-decoration-color: #00d7ff\">None</span>, <span style=\"color: #00af00; text-decoration-color: #00af00\">6</span>)              │         <span style=\"color: #00af00; text-decoration-color: #00af00\">3,606</span> │\n",
       "└─────────────────────────────────┴────────────────────────┴───────────────┘\n",
       "</pre>\n"
      ],
      "text/plain": [
       "┏━━━━━━━━━━━━━━━━━━━━━━━━━━━━━━━━━┳━━━━━━━━━━━━━━━━━━━━━━━━┳━━━━━━━━━━━━━━━┓\n",
       "┃\u001b[1m \u001b[0m\u001b[1mLayer (type)                   \u001b[0m\u001b[1m \u001b[0m┃\u001b[1m \u001b[0m\u001b[1mOutput Shape          \u001b[0m\u001b[1m \u001b[0m┃\u001b[1m \u001b[0m\u001b[1m      Param #\u001b[0m\u001b[1m \u001b[0m┃\n",
       "┡━━━━━━━━━━━━━━━━━━━━━━━━━━━━━━━━━╇━━━━━━━━━━━━━━━━━━━━━━━━╇━━━━━━━━━━━━━━━┩\n",
       "│ input_layer (\u001b[38;5;33mInputLayer\u001b[0m)        │ (\u001b[38;5;45mNone\u001b[0m, \u001b[38;5;34m1\u001b[0m)              │             \u001b[38;5;34m0\u001b[0m │\n",
       "├─────────────────────────────────┼────────────────────────┼───────────────┤\n",
       "│ text_vectorization              │ (\u001b[38;5;45mNone\u001b[0m, \u001b[38;5;45mNone\u001b[0m)           │             \u001b[38;5;34m0\u001b[0m │\n",
       "│ (\u001b[38;5;33mTextVectorization\u001b[0m)             │                        │               │\n",
       "├─────────────────────────────────┼────────────────────────┼───────────────┤\n",
       "│ embedding (\u001b[38;5;33mEmbedding\u001b[0m)           │ (\u001b[38;5;45mNone\u001b[0m, \u001b[38;5;45mNone\u001b[0m, \u001b[38;5;34m300\u001b[0m)      │       \u001b[38;5;34m900,000\u001b[0m │\n",
       "├─────────────────────────────────┼────────────────────────┼───────────────┤\n",
       "│ gru (\u001b[38;5;33mGRU\u001b[0m)                       │ (\u001b[38;5;45mNone\u001b[0m, \u001b[38;5;34m600\u001b[0m)            │     \u001b[38;5;34m1,623,600\u001b[0m │\n",
       "├─────────────────────────────────┼────────────────────────┼───────────────┤\n",
       "│ dense (\u001b[38;5;33mDense\u001b[0m)                   │ (\u001b[38;5;45mNone\u001b[0m, \u001b[38;5;34m6\u001b[0m)              │         \u001b[38;5;34m3,606\u001b[0m │\n",
       "└─────────────────────────────────┴────────────────────────┴───────────────┘\n"
      ]
     },
     "metadata": {},
     "output_type": "display_data"
    },
    {
     "data": {
      "text/html": [
       "<pre style=\"white-space:pre;overflow-x:auto;line-height:normal;font-family:Menlo,'DejaVu Sans Mono',consolas,'Courier New',monospace\"><span style=\"font-weight: bold\"> Total params: </span><span style=\"color: #00af00; text-decoration-color: #00af00\">2,527,206</span> (9.64 MB)\n",
       "</pre>\n"
      ],
      "text/plain": [
       "\u001b[1m Total params: \u001b[0m\u001b[38;5;34m2,527,206\u001b[0m (9.64 MB)\n"
      ]
     },
     "metadata": {},
     "output_type": "display_data"
    },
    {
     "data": {
      "text/html": [
       "<pre style=\"white-space:pre;overflow-x:auto;line-height:normal;font-family:Menlo,'DejaVu Sans Mono',consolas,'Courier New',monospace\"><span style=\"font-weight: bold\"> Trainable params: </span><span style=\"color: #00af00; text-decoration-color: #00af00\">2,527,206</span> (9.64 MB)\n",
       "</pre>\n"
      ],
      "text/plain": [
       "\u001b[1m Trainable params: \u001b[0m\u001b[38;5;34m2,527,206\u001b[0m (9.64 MB)\n"
      ]
     },
     "metadata": {},
     "output_type": "display_data"
    },
    {
     "data": {
      "text/html": [
       "<pre style=\"white-space:pre;overflow-x:auto;line-height:normal;font-family:Menlo,'DejaVu Sans Mono',consolas,'Courier New',monospace\"><span style=\"font-weight: bold\"> Non-trainable params: </span><span style=\"color: #00af00; text-decoration-color: #00af00\">0</span> (0.00 B)\n",
       "</pre>\n"
      ],
      "text/plain": [
       "\u001b[1m Non-trainable params: \u001b[0m\u001b[38;5;34m0\u001b[0m (0.00 B)\n"
      ]
     },
     "metadata": {},
     "output_type": "display_data"
    }
   ],
   "source": [
    "# Scheduler para el learning rate \n",
    "lr_schedule = tf.keras.optimizers.schedules.ExponentialDecay(\n",
    "    initial_learning_rate=1e-3,\n",
    "    decay_steps=4000,\n",
    "    decay_rate=0.9)\n",
    "\n",
    "# Inicialización del optimizador para controlar el learning rate \n",
    "t_optimizer = tf.keras.optimizers.Nadam(learning_rate=lr_schedule)\n",
    "\n",
    "# Compilación del modelo \n",
    "title_model.compile(\n",
    "    loss='sparse_categorical_crossentropy',\n",
    "    optimizer=t_optimizer,\n",
    "    metrics=['accuracy']\n",
    "    )\n",
    "\n",
    "title_model.summary()"
   ]
  },
  {
   "cell_type": "code",
   "execution_count": 25,
   "id": "56e23996",
   "metadata": {},
   "outputs": [],
   "source": [
    "# Guarda el mejor modelo de acuerdo al validation accuracy a lo largo de todo el entrenamiento \n",
    "checkpoint_cb = tf.keras.callbacks.ModelCheckpoint('checkpoint_best.keras', save_best_only=True)\n",
    "\n",
    "# Generar historia para Tensorboard \n",
    "from pathlib import Path\n",
    "from time import strftime\n",
    "\n",
    "def get_run_logdir(root_logdir='tensorboard_logs', name='model'):\n",
    "    return Path(root_logdir) / strftime(name+'_run_%Y_%m_%d_%H_%M_%S')\n",
    "\n",
    "# Crea el directorio de la corrida\n",
    "run_logdir = get_run_logdir(name='title_model')\n",
    "# Declara el callback para el logeo con Tensorboard\n",
    "tensorboard_cb = tf.keras.callbacks.TensorBoard(run_logdir)\n",
    "\n",
    "# Callback para parar de manera anticipada cuando el loss de la validación deja de mejorar. La paciencia esta en 10 epocas. \n",
    "early_stopping_cb = tf.keras.callbacks.EarlyStopping(patience=10)"
   ]
  },
  {
   "cell_type": "code",
   "execution_count": 27,
   "id": "87e09132",
   "metadata": {},
   "outputs": [
    {
     "name": "stdout",
     "output_type": "stream",
     "text": [
      "Epoch 1/100\n",
      "\u001b[1m23/23\u001b[0m \u001b[32m━━━━━━━━━━━━━━━━━━━━\u001b[0m\u001b[37m\u001b[0m \u001b[1m2s\u001b[0m 47ms/step - accuracy: 0.5975 - loss: 1.2826 - val_accuracy: 0.6486 - val_loss: 1.0473\n",
      "Epoch 2/100\n",
      "\u001b[1m23/23\u001b[0m \u001b[32m━━━━━━━━━━━━━━━━━━━━\u001b[0m\u001b[37m\u001b[0m \u001b[1m1s\u001b[0m 39ms/step - accuracy: 0.5803 - loss: 0.9130 - val_accuracy: 0.7027 - val_loss: 0.6684\n",
      "Epoch 3/100\n",
      "\u001b[1m23/23\u001b[0m \u001b[32m━━━━━━━━━━━━━━━━━━━━\u001b[0m\u001b[37m\u001b[0m \u001b[1m1s\u001b[0m 32ms/step - accuracy: 0.7387 - loss: 0.6337 - val_accuracy: 0.6486 - val_loss: 0.7547\n",
      "Epoch 4/100\n",
      "\u001b[1m23/23\u001b[0m \u001b[32m━━━━━━━━━━━━━━━━━━━━\u001b[0m\u001b[37m\u001b[0m \u001b[1m1s\u001b[0m 35ms/step - accuracy: 0.8365 - loss: 0.4402 - val_accuracy: 0.8108 - val_loss: 1.4848\n",
      "Epoch 5/100\n",
      "\u001b[1m23/23\u001b[0m \u001b[32m━━━━━━━━━━━━━━━━━━━━\u001b[0m\u001b[37m\u001b[0m \u001b[1m1s\u001b[0m 38ms/step - accuracy: 0.9781 - loss: 0.1777 - val_accuracy: 0.9189 - val_loss: 0.3766\n",
      "Epoch 6/100\n",
      "\u001b[1m23/23\u001b[0m \u001b[32m━━━━━━━━━━━━━━━━━━━━\u001b[0m\u001b[37m\u001b[0m \u001b[1m1s\u001b[0m 35ms/step - accuracy: 0.9785 - loss: 0.1337 - val_accuracy: 0.8649 - val_loss: 0.7045\n",
      "Epoch 7/100\n",
      "\u001b[1m23/23\u001b[0m \u001b[32m━━━━━━━━━━━━━━━━━━━━\u001b[0m\u001b[37m\u001b[0m \u001b[1m1s\u001b[0m 32ms/step - accuracy: 0.9942 - loss: 0.0878 - val_accuracy: 0.9189 - val_loss: 0.4014\n",
      "Epoch 8/100\n",
      "\u001b[1m23/23\u001b[0m \u001b[32m━━━━━━━━━━━━━━━━━━━━\u001b[0m\u001b[37m\u001b[0m \u001b[1m1s\u001b[0m 31ms/step - accuracy: 1.0000 - loss: 0.0502 - val_accuracy: 0.8919 - val_loss: 0.5439\n",
      "Epoch 9/100\n",
      "\u001b[1m23/23\u001b[0m \u001b[32m━━━━━━━━━━━━━━━━━━━━\u001b[0m\u001b[37m\u001b[0m \u001b[1m1s\u001b[0m 33ms/step - accuracy: 1.0000 - loss: 0.0382 - val_accuracy: 0.8919 - val_loss: 0.6095\n",
      "Epoch 10/100\n",
      "\u001b[1m23/23\u001b[0m \u001b[32m━━━━━━━━━━━━━━━━━━━━\u001b[0m\u001b[37m\u001b[0m \u001b[1m1s\u001b[0m 31ms/step - accuracy: 1.0000 - loss: 0.0341 - val_accuracy: 0.8919 - val_loss: 0.6335\n",
      "Epoch 11/100\n",
      "\u001b[1m23/23\u001b[0m \u001b[32m━━━━━━━━━━━━━━━━━━━━\u001b[0m\u001b[37m\u001b[0m \u001b[1m1s\u001b[0m 34ms/step - accuracy: 1.0000 - loss: 0.0307 - val_accuracy: 0.8919 - val_loss: 0.6387\n",
      "Epoch 12/100\n",
      "\u001b[1m23/23\u001b[0m \u001b[32m━━━━━━━━━━━━━━━━━━━━\u001b[0m\u001b[37m\u001b[0m \u001b[1m1s\u001b[0m 33ms/step - accuracy: 1.0000 - loss: 0.0277 - val_accuracy: 0.8919 - val_loss: 0.6288\n",
      "Epoch 13/100\n",
      "\u001b[1m23/23\u001b[0m \u001b[32m━━━━━━━━━━━━━━━━━━━━\u001b[0m\u001b[37m\u001b[0m \u001b[1m1s\u001b[0m 32ms/step - accuracy: 1.0000 - loss: 0.0249 - val_accuracy: 0.8919 - val_loss: 0.6011\n",
      "Epoch 14/100\n",
      "\u001b[1m23/23\u001b[0m \u001b[32m━━━━━━━━━━━━━━━━━━━━\u001b[0m\u001b[37m\u001b[0m \u001b[1m1s\u001b[0m 33ms/step - accuracy: 1.0000 - loss: 0.0224 - val_accuracy: 0.8919 - val_loss: 0.5617\n",
      "Epoch 15/100\n",
      "\u001b[1m23/23\u001b[0m \u001b[32m━━━━━━━━━━━━━━━━━━━━\u001b[0m\u001b[37m\u001b[0m \u001b[1m1s\u001b[0m 33ms/step - accuracy: 1.0000 - loss: 0.0201 - val_accuracy: 0.8919 - val_loss: 0.5104\n"
     ]
    }
   ],
   "source": [
    "t_history = title_model.fit(X_train, y_train, batch_size=15, epochs=100, validation_split=0.1, callbacks=[checkpoint_cb, tensorboard_cb, early_stopping_cb])"
   ]
  },
  {
   "cell_type": "code",
   "execution_count": 28,
   "id": "37d04ed8",
   "metadata": {},
   "outputs": [
    {
     "data": {
      "text/plain": [
       "<Axes: xlabel='Epoch'>"
      ]
     },
     "execution_count": 28,
     "metadata": {},
     "output_type": "execute_result"
    },
    {
     "data": {
      "image/png": "[encoded data removed]",
      "text/plain": [
       "<Figure size 800x500 with 1 Axes>"
      ]
     },
     "metadata": {},
     "output_type": "display_data"
    }
   ],
   "source": [
    "import pandas as pd\n",
    "\n",
    "# Graficar el accuracy y loss del modelo, dado que al entrenar guardamos el modelo en un objeto history que registra el loss y acurracy de cada epoch\n",
    "pd.DataFrame(t_history.history).plot(\n",
    "    figsize=(8,5),\n",
    "    xlim=[0,12],\n",
    "    ylim=[0,2],\n",
    "    grid=True,\n",
    "    xlabel='Epoch',\n",
    "    style=['r--','r--.','b-','b-*']\n",
    ")"
   ]
  },
  {
   "cell_type": "code",
   "execution_count": 29,
   "id": "b15ffe7a",
   "metadata": {},
   "outputs": [
    {
     "name": "stdout",
     "output_type": "stream",
     "text": [
      "\u001b[1m2/2\u001b[0m \u001b[32m━━━━━━━━━━━━━━━━━━━━\u001b[0m\u001b[37m\u001b[0m \u001b[1m0s\u001b[0m 8ms/step - accuracy: 0.9737 - loss: 0.2016 \n"
     ]
    },
    {
     "data": {
      "text/plain": [
       "[0.18857499957084656, 0.976190447807312]"
      ]
     },
     "execution_count": 29,
     "metadata": {},
     "output_type": "execute_result"
    }
   ],
   "source": [
    "# Evaluación del modelo entrenado hasta la última época\n",
    "title_model.evaluate(X_test,y_test)"
   ]
  },
  {
   "cell_type": "code",
   "execution_count": 30,
   "id": "fb72561d",
   "metadata": {},
   "outputs": [
    {
     "name": "stdout",
     "output_type": "stream",
     "text": [
      "\u001b[1m2/2\u001b[0m \u001b[32m━━━━━━━━━━━━━━━━━━━━\u001b[0m\u001b[37m\u001b[0m \u001b[1m0s\u001b[0m 9ms/step - accuracy: 0.8264 - loss: 0.6205  \n"
     ]
    },
    {
     "data": {
      "text/plain": [
       "[0.6115585565567017, 0.8333333134651184]"
      ]
     },
     "execution_count": 30,
     "metadata": {},
     "output_type": "execute_result"
    }
   ],
   "source": [
    "# Evaluación final del mejor modelo (recuperado con el callback de ModelCheckpoint)\n",
    "best_title_model = tf.keras.models.load_model('checkpoint_best.keras')\n",
    "best_title_model.evaluate(X_test, y_test)"
   ]
  },
  {
   "cell_type": "code",
   "execution_count": 31,
   "id": "c662e38d",
   "metadata": {},
   "outputs": [
    {
     "name": "stdout",
     "output_type": "stream",
     "text": [
      "\u001b[1m2/2\u001b[0m \u001b[32m━━━━━━━━━━━━━━━━━━━━\u001b[0m\u001b[37m\u001b[0m \u001b[1m0s\u001b[0m 136ms/step\n",
      "              precision    recall  f1-score   support\n",
      "\n",
      "           0       0.89      0.57      0.70        14\n",
      "           1       0.82      0.96      0.89        28\n",
      "\n",
      "    accuracy                           0.83        42\n",
      "   macro avg       0.85      0.77      0.79        42\n",
      "weighted avg       0.84      0.83      0.82        42\n",
      "\n"
     ]
    }
   ],
   "source": [
    "y_pred_title = best_title_model.predict(X_test).argmax(axis=1)\n",
    "\n",
    "from sklearn.metrics import classification_report\n",
    "print(classification_report(y_test, y_pred_title))"
   ]
  },
  {
   "cell_type": "code",
   "execution_count": 32,
   "id": "b88e12fa",
   "metadata": {},
   "outputs": [
    {
     "data": {
      "text/plain": [
       "array([[ 8,  6],\n",
       "       [ 1, 27]], dtype=int64)"
      ]
     },
     "execution_count": 32,
     "metadata": {},
     "output_type": "execute_result"
    }
   ],
   "source": [
    "from sklearn.metrics import confusion_matrix\n",
    "confusion_matrix(y_test, y_pred_title)"
   ]
  },
  {
   "cell_type": "code",
   "execution_count": 33,
   "id": "d44f60e9",
   "metadata": {},
   "outputs": [
    {
     "data": {
      "image/png": "[encoded data removed]",
      "text/plain": [
       "<Figure size 1000x700 with 2 Axes>"
      ]
     },
     "metadata": {},
     "output_type": "display_data"
    }
   ],
   "source": [
    "plt.figure(figsize=(10, 7))\n",
    "sns.heatmap(confusion_matrix(y_test, y_pred_title), annot=True, fmt=\"d\", cmap=\"Blues\")\n",
    "plt.title('Confusion Matrix')\n",
    "plt.xlabel('Predicted')\n",
    "plt.ylabel('True')\n",
    "plt.show()"
   ]
  },
  {
   "cell_type": "markdown",
   "id": "bf29f4e6",
   "metadata": {},
   "source": [
    "**Qué nos dice la matriz de confusión**\n",
    "\n",
    "*   Cuadrante Superior Izquierdo (8): Verdaderos Negativos (TN)\n",
    "\n",
    "Qué significa: Hubo 8 casos que eran de la clase '0' y el modelo acertó en 8 de ellos.\n",
    "\n",
    "*   Cuadrante Inferior Derecho (27): Verdaderos Positivos (TP)\n",
    "\n",
    "Qué significa: Hubo 27 casos que eran de la clase '1' y el modelo acertó en 25.\n",
    "\n",
    "*   Cuadrante Superior Derecho (6): Falsos Positivos (FP)\n",
    "\n",
    "Qué significa: Hubo 6 casos que eran '0', pero el modelo se equivocó y los predijo como '1'.\n",
    "\n",
    "*   Cuadrante Inferior Izquierdo (1): Falsos Negativos (FN)\n",
    "\n",
    "Qué significa: Hubo 1 casos que eran '1', pero el modelo se equivocó y los predijo como '0'."
   ]
  }
 ],
 "metadata": {
  "kernelspec": {
   "display_name": "Python 3",
   "language": "python",
   "name": "python3"
  },
  "language_info": {
   "codemirror_mode": {
    "name": "ipython",
    "version": 3
   },
   "file_extension": ".py",
   "mimetype": "text/x-python",
   "name": "python",
   "nbconvert_exporter": "python",
   "pygments_lexer": "ipython3",
   "version": "3.12.3"
  }
 },
 "nbformat": 4,
 "nbformat_minor": 5
}
