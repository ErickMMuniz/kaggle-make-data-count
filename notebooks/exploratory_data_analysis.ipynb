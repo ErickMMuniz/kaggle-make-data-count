{
 "cells": [
  {
   "cell_type": "code",
   "execution_count": 1,
   "id": "0d2ae8dd-e159-4148-b12b-86f1ab17b059",
   "metadata": {},
   "outputs": [],
   "source": [
    "#Note: Use tis block in order to use some code from src. \n",
    "import os\n",
    "import sys\n",
    "project_root = os.path.abspath(os.path.join(os.getcwd(), os.pardir))\n",
    "sys.path.append(project_root)"
   ]
  },
  {
   "cell_type": "code",
   "execution_count": 2,
   "id": "1c32279c-3f6a-48cc-9efa-d33c401841a4",
   "metadata": {},
   "outputs": [
    {
     "data": {
      "text/html": [
       "<div>\n",
       "<style scoped>\n",
       "    .dataframe tbody tr th:only-of-type {\n",
       "        vertical-align: middle;\n",
       "    }\n",
       "\n",
       "    .dataframe tbody tr th {\n",
       "        vertical-align: top;\n",
       "    }\n",
       "\n",
       "    .dataframe thead th {\n",
       "        text-align: right;\n",
       "    }\n",
       "</style>\n",
       "<table border=\"1\" class=\"dataframe\">\n",
       "  <thead>\n",
       "    <tr style=\"text-align: right;\">\n",
       "      <th></th>\n",
       "      <th>article_id</th>\n",
       "      <th>dataset_id</th>\n",
       "      <th>type</th>\n",
       "    </tr>\n",
       "  </thead>\n",
       "  <tbody>\n",
       "    <tr>\n",
       "      <th>0</th>\n",
       "      <td>10.1002_2017jc013030</td>\n",
       "      <td>https://doi.org/10.17882/49388</td>\n",
       "      <td>Primary</td>\n",
       "    </tr>\n",
       "    <tr>\n",
       "      <th>1</th>\n",
       "      <td>10.1002_anie.201916483</td>\n",
       "      <td>https://doi.org/10.5517/ccdc.csd.cc1npvt0</td>\n",
       "      <td>Missing</td>\n",
       "    </tr>\n",
       "    <tr>\n",
       "      <th>2</th>\n",
       "      <td>10.1002_anie.202005531</td>\n",
       "      <td>https://doi.org/10.5517/ccdc.csd.cc24wxqp</td>\n",
       "      <td>Missing</td>\n",
       "    </tr>\n",
       "    <tr>\n",
       "      <th>3</th>\n",
       "      <td>10.1002_anie.202007717</td>\n",
       "      <td>https://doi.org/10.5517/ccdc.csd.cc24rrb0</td>\n",
       "      <td>Missing</td>\n",
       "    </tr>\n",
       "    <tr>\n",
       "      <th>4</th>\n",
       "      <td>10.1002_chem.201902131</td>\n",
       "      <td>https://doi.org/10.5517/ccdc.csd.cc221dk3</td>\n",
       "      <td>Missing</td>\n",
       "    </tr>\n",
       "    <tr>\n",
       "      <th>...</th>\n",
       "      <td>...</td>\n",
       "      <td>...</td>\n",
       "      <td>...</td>\n",
       "    </tr>\n",
       "    <tr>\n",
       "      <th>1061</th>\n",
       "      <td>10.7717_peerj.12422</td>\n",
       "      <td>https://doi.org/10.15468/dl.t3h8b4</td>\n",
       "      <td>Secondary</td>\n",
       "    </tr>\n",
       "    <tr>\n",
       "      <th>1062</th>\n",
       "      <td>10.7717_peerj.12422</td>\n",
       "      <td>https://doi.org/10.15468/dl.yak5vd</td>\n",
       "      <td>Secondary</td>\n",
       "    </tr>\n",
       "    <tr>\n",
       "      <th>1063</th>\n",
       "      <td>10.7717_peerj.13193</td>\n",
       "      <td>https://doi.org/10.6073/pasta/02e2764efb408a8b...</td>\n",
       "      <td>Secondary</td>\n",
       "    </tr>\n",
       "    <tr>\n",
       "      <th>1064</th>\n",
       "      <td>10.7717_peerj.13193</td>\n",
       "      <td>https://doi.org/10.6073/pasta/275ad28a2f31356c...</td>\n",
       "      <td>Secondary</td>\n",
       "    </tr>\n",
       "    <tr>\n",
       "      <th>1065</th>\n",
       "      <td>10.7717_peerj.13193</td>\n",
       "      <td>https://doi.org/10.6073/pasta/b23deb8e1ccf1c14...</td>\n",
       "      <td>Primary</td>\n",
       "    </tr>\n",
       "  </tbody>\n",
       "</table>\n",
       "<p>1066 rows × 3 columns</p>\n",
       "</div>"
      ],
      "text/plain": [
       "                  article_id  \\\n",
       "0       10.1002_2017jc013030   \n",
       "1     10.1002_anie.201916483   \n",
       "2     10.1002_anie.202005531   \n",
       "3     10.1002_anie.202007717   \n",
       "4     10.1002_chem.201902131   \n",
       "...                      ...   \n",
       "1061     10.7717_peerj.12422   \n",
       "1062     10.7717_peerj.12422   \n",
       "1063     10.7717_peerj.13193   \n",
       "1064     10.7717_peerj.13193   \n",
       "1065     10.7717_peerj.13193   \n",
       "\n",
       "                                             dataset_id       type  \n",
       "0                        https://doi.org/10.17882/49388    Primary  \n",
       "1             https://doi.org/10.5517/ccdc.csd.cc1npvt0    Missing  \n",
       "2             https://doi.org/10.5517/ccdc.csd.cc24wxqp    Missing  \n",
       "3             https://doi.org/10.5517/ccdc.csd.cc24rrb0    Missing  \n",
       "4             https://doi.org/10.5517/ccdc.csd.cc221dk3    Missing  \n",
       "...                                                 ...        ...  \n",
       "1061                 https://doi.org/10.15468/dl.t3h8b4  Secondary  \n",
       "1062                 https://doi.org/10.15468/dl.yak5vd  Secondary  \n",
       "1063  https://doi.org/10.6073/pasta/02e2764efb408a8b...  Secondary  \n",
       "1064  https://doi.org/10.6073/pasta/275ad28a2f31356c...  Secondary  \n",
       "1065  https://doi.org/10.6073/pasta/b23deb8e1ccf1c14...    Primary  \n",
       "\n",
       "[1066 rows x 3 columns]"
      ]
     },
     "execution_count": 2,
     "metadata": {},
     "output_type": "execute_result"
    }
   ],
   "source": [
    "from src.notebook_utils import DATA, PDF_TRAIN\n",
    "import pandas as pd\n",
    "\n",
    "train_labels = os.path.join(DATA, \"train_labels.csv\")\n",
    "\n",
    "df = pd.read_csv(train_labels)\n",
    "\n",
    "df"
   ]
  },
  {
   "cell_type": "code",
   "execution_count": 3,
   "id": "170395e1-930a-4ece-820c-071a14ec7003",
   "metadata": {},
   "outputs": [],
   "source": [
    "ARTICLE_ID : str = \"article_id\" \n",
    "DATASET_ID : str = \"dataset_id\"\n",
    "\n",
    "PDF_PATH : str = \"pdf_path\"\n",
    "\n",
    "df[PDF_PATH] = df[ARTICLE_ID].map(lambda x: os.path.join(PDF_TRAIN, \"{}.pdf\".format(x)))"
   ]
  },
  {
   "cell_type": "code",
   "execution_count": 15,
   "id": "df6d9024-0863-4934-970a-30f2a6c6712b",
   "metadata": {},
   "outputs": [
    {
     "data": {
      "text/plain": [
       "'/home/erick/Projects/kaggle-make-data-count/data/train/PDF/10.1002_anie.202005531.pdf'"
      ]
     },
     "execution_count": 15,
     "metadata": {},
     "output_type": "execute_result"
    }
   ],
   "source": [
    "df[PDF_PATH].head(3)[2]"
   ]
  },
  {
   "cell_type": "code",
   "execution_count": 12,
   "id": "47a2950f-3563-41f0-9a31-76aa78e7ab68",
   "metadata": {},
   "outputs": [
    {
     "data": {
      "text/html": [
       "<div>\n",
       "<style scoped>\n",
       "    .dataframe tbody tr th:only-of-type {\n",
       "        vertical-align: middle;\n",
       "    }\n",
       "\n",
       "    .dataframe tbody tr th {\n",
       "        vertical-align: top;\n",
       "    }\n",
       "\n",
       "    .dataframe thead th {\n",
       "        text-align: right;\n",
       "    }\n",
       "</style>\n",
       "<table border=\"1\" class=\"dataframe\">\n",
       "  <thead>\n",
       "    <tr style=\"text-align: right;\">\n",
       "      <th></th>\n",
       "      <th>article_id</th>\n",
       "      <th>dataset_id</th>\n",
       "      <th>pdf_path</th>\n",
       "    </tr>\n",
       "    <tr>\n",
       "      <th>type</th>\n",
       "      <th></th>\n",
       "      <th></th>\n",
       "      <th></th>\n",
       "    </tr>\n",
       "  </thead>\n",
       "  <tbody>\n",
       "    <tr>\n",
       "      <th>Missing</th>\n",
       "      <td>347</td>\n",
       "      <td>347</td>\n",
       "      <td>347</td>\n",
       "    </tr>\n",
       "    <tr>\n",
       "      <th>Primary</th>\n",
       "      <td>270</td>\n",
       "      <td>270</td>\n",
       "      <td>270</td>\n",
       "    </tr>\n",
       "    <tr>\n",
       "      <th>Secondary</th>\n",
       "      <td>449</td>\n",
       "      <td>449</td>\n",
       "      <td>449</td>\n",
       "    </tr>\n",
       "  </tbody>\n",
       "</table>\n",
       "</div>"
      ],
      "text/plain": [
       "           article_id  dataset_id  pdf_path\n",
       "type                                       \n",
       "Missing           347         347       347\n",
       "Primary           270         270       270\n",
       "Secondary         449         449       449"
      ]
     },
     "execution_count": 12,
     "metadata": {},
     "output_type": "execute_result"
    }
   ],
   "source": [
    "df.groupby(['type']).count()"
   ]
  },
  {
   "cell_type": "code",
   "execution_count": 19,
   "id": "55914537-c93c-4891-b2b5-9f6c87049c04",
   "metadata": {},
   "outputs": [
    {
     "name": "stdout",
     "output_type": "stream",
     "text": [
      "=============+\n",
      "b'Arenes\\nTrifluoromethyl Sulfoxides: Reagents for Metal-Free C\\x02H\\nTrifluoromethylthiolation\\nDong Wang, C. Grace Carlton, Masanori Tayu, Joseph J. W. McDouall, Gregory J. P. Perry, and\\nDavid J. Procter*\\nAbstract: Trifluoromethyl sulfoxides are a new class of\\ntrifluoromethylthiolating reagent. The sulfoxides engage in\\nmetal-free C\\x02H trifluoromethylthiolation with a range of\\n(hetero)arenes. The method is also applicable to the function-\\nalization of important compound classes, such as ligand\\nderivatives and polyaromatics, and in the late-stage trifluor-\\nomethylthiolation of medicines and agrochemicals. The iso-\\nlation and characterization of a sulfonium salt intermediate\\nsupports an interrupted Pummerer reaction mechanism.\\nIncorporating fluorine into organic compounds is a useful\\ntool in drug design and development. The fluoro group is well\\nknown to improve the pharmacokinetic properties of a mol-\\necule and fluorine-18 is an important radioisotope in molec-\\nular imaging.[1,2] Trifluoromethylthio (SCF3) groups are\\ncommonly found in drug molecules and veterinary medi-\\ncines.[3,4] By combining a fluorinated moiety with a hetero-\\natom, many have turned to the SCF3 group to impart useful\\nproperties, such as high lipophilicity, to a compound of\\ninterest.[5]\\nAn attractive route for incorporating SCF3 groups into\\norganic molecules is through the direct, metal-free function-\\nalization of C\\x02H bonds.[6] Early methods using trifluorome-\\nthylsulfenyl chloride have fallen from favor because of\\nconcerns over handling and toxicity of the reagent.[7] This\\ntriggered a push to develop shelf-stable, easy-to-handle\\ntrifluoromethylthiolating agents (Scheme 1A).[8] Despite the\\nadvantages of these reagents, they are generally limited to the\\nC\\x02H\\ntrifluoromethylthiolation\\nof\\nhighly\\nelectron-rich\\n(hetero)arenes, such as indoles and phenols, whereas reac-\\ntions involving less nucleophilic arenes, such as anisole and\\ntoluene, are scarce.[8d,o,p,a,b] Furthermore, few reports describe\\nthe use of these reagents for the late-stage trifluoromethylth-\\niolation of complex molecules.[8j,m,n,a,b]\\nIn recent years, our group[9] and others[10] have explored\\nthe so-called interrupted Pummerer reaction of sulfoxides\\nand its use for the functionalization of C\\x02H bonds.[11] For\\nexample, we have described the thioarylation of simple arenes\\nusing sulfoxides as sulfide precursors.[9c] Key to these reac-\\ntions is the in situ formation of a highly electrophilic\\nsulfonium salt, by activation of the sulfoxide with an acid\\nanhydride, which is susceptible to reaction with a range of\\nnucleophiles.\\nWe were keen to assess whether underutilized trifluor-\\nomethyl sulfoxides would engage in C\\x02H trifluoromethylth-\\niolation. We reasoned that trifluoromethylsulfonium salts,\\ngenerated from trifluoromethyl sulfoxides by an interrupted\\nPummerer reaction, would prove versatile intermediates en\\nroute to the incorporation of SCF3 into nucleophilic arenes.\\nHerein, we present trifluoromethyl sulfoxides as novel,\\ntuneable trifluoromethylthiolating agents (Scheme 1B). The\\neasy to prepare, bench-stable and novel trifluoromethyl\\nsulfoxides[12] allow SCF3 incorporation into a variety of\\nheteroarenes and arenes, including drug molecules, at the\\nexpense of C\\x02H bonds. In contrast to current methods for\\ntrifluoromethylthiolation, which involve direct attack of an\\narene on an electrophilic SCF3 reagent, our unique strategy\\nbuilds the desired connectivity to give sulfonium salts that are\\nScheme 1. A) Current methods for transition metal-free C\\x02H trifluoro-\\nmethylthiolation. B) This work: C\\x02H trifluoromethylthiolation by an\\ninterrupted Pummerer reaction.\\n[*] Dr. D. Wang, C. G. Carlton, Dr. M. Tayu, Dr. J. J. W. McDouall,\\nDr. G. J. P. Perry, Prof. Dr. D. J. Procter\\nDepartment of Chemistry, University of Manchester\\nOxford Road, Manchester, M13 9PL (UK)\\nE-mail: david.j.procter@manchester.ac.uk\\nDr. M. Tayu\\nDepartment of Chemistry, Meiji Pharmaceutical University\\n2-522-1 Noshio, Kiyose, Tokyo 204-8588 (Japan)\\nSupporting information and the ORCID identification number(s) for\\nthe author(s) of this article can be found under:\\nhttps://doi.org/10.1002/anie.202005531.\\n\\x02 2020 The Authors. Published by Wiley-VCH Verlag GmbH & Co.\\nKGaA. This is an open access article under the terms of the Creative\\nCommons Attribution License, which permits use, distribution and\\nreproduction in any medium, provided the original work is properly\\ncited.\\nAngewandte\\nChemie\\nCommunications\\nHow to cite: Angew. Chem. Int. Ed. 2020, 59, 15918\\xe2\\x80\\x9315922\\nInternational Edition:\\ndoi.org/10.1002/anie.202005531\\nGerman Edition:\\ndoi.org/10.1002/ange.202005531\\n15918\\n\\x02 2020 The Authors. Published by Wiley-VCH Verlag GmbH & Co. KGaA, Weinheim\\nAngew. Chem. Int. Ed. 2020, 59, 15918 \\xe2\\x80\\x9315922\\n'\n",
      "=============+\n",
      "b'selectively deconstructed in situ to deliver trifluoromethylth-\\niolated products.\\nOur first aim was to design and synthesize a sulfoxide\\nsuitable for general and selective trifluoromethylthiolation.[13]\\nKey to our mechanistic hypothesis for trifluoromethylthiola-\\ntion is the selective loss of the R group, rather than the CF3\\ngroup, from the sulfoxide 1 (Scheme 1B). As this step likely\\noccurs by nucleophilic substitution in a sulfonium salt\\nintermediate (see below), we identified the benzyl-substituted\\ntrifluoromethyl sulfoxide 1a as a candidate for enabling\\ntrifluoromethylthiolation: the activating effect of the adjacent\\np-system, combined with the inhibitory effect of fluoro groups\\ntowards incoming nucleophiles,[14] would make the benzyl\\ngroup more susceptible to removal. We developed a new\\nroute for the synthesis of 1a, which was obtained as a free-\\nflowing, bench-stable, crystalline solid and has been charac-\\nterized by X-ray crystallographic analysis (Scheme 1B).[15]\\nWith a novel sulfoxide in hand, we attempted the\\ntrifluoromethylthiolation of indole (2a; Scheme 2). The\\nsulfoxide was activated using triflic anhydride[9] to give the\\ndesired trifluoromethylthiolated indole 3a in 70% yield. The\\nreaction tolerated substitution at all positions around the\\nindole motif [C4 (3b, 3 f, 3h), C5 (3d, 3e, 3i), C6 (3c, 3g), C7\\n(3j) and C3 (3k)], including various electron-withdrawing\\n(3b\\xe2\\x80\\x93g) and electron-donating (3i\\xe2\\x80\\x93k) groups. We were pleased\\nto find that functional groups that can undergo subsequent\\ntransformations, such as halides (3b, 3c), nitriles (3d), esters\\n(3e\\xe2\\x80\\x933g), and boronate esters (3h), were well tolerated. N-\\nmethyl indoles also worked well in the procedure (3l\\xe2\\x80\\x93n). A\\nrange of other heteroaromatic compounds also underwent\\nefficient C\\x02H trifluoromethylthiolation, such as benzothio-\\nphene (3o), thiophenes (3p, 3q), benzofuran (3r) and\\npyrroles (3s, 3t). The reaction was also executed on a gram\\nscale without severe detriment to the yield (3a).\\nIn comparison to heteroarenes, the trifluoromethylthio-\\nlation of arenes has received less attention.[8d,o,p,a,b] Initial\\nresults using 1a gave poor yields of the desired trifluorome-\\nthylthiolated arenes, however, a novel ester-derived trifluor-\\nomethyl sulfoxide, 1b, showed good reactivity (Scheme 3).\\nThis outcome suggests that the structure of the sulfoxide can\\nbe tuned for optimization with a specific class of substrate.[16]\\nWith 1b, anisole, phenol and other alkylated arenes were\\nresponsive to trifluoromethylthiolation (5a\\xe2\\x80\\x93e).[17] Unfortu-\\nnately, free amines were not tolerated in this reaction (5 f).[18]\\nA range of 1,2- (5g\\xe2\\x80\\x93j) 1,3- (5k) and 1,4-disubstituted (5l, 5m)\\narenes, bearing various functionalities, such as halogens and\\nesters, also performed well under our reaction conditions. The\\nreaction was also applicable to trisubstituted arenes (5n, 5o)\\nand naphthalenes (5p, 5q). Finally, we showcased our method\\nusing substrates relevant in catalysis, materials, medicine, and\\nagriculture. We were able to trifluoromethylthiolate a BINOL\\nderivative (5r), pyrene (5s), drugs (5t), pesticides (5u), and\\na natural product derivative (5v).\\nA mechanistic proposal for the trifluoromethylthiolation\\nis summarized in Scheme 4. The trifluoromethyl sulfoxides\\n1 are initially activated through reaction with Tf2O to produce\\nthe electrophilic intermediates 6. The intermediates 6 then\\nundergo the so-called interrupted Pummerer reaction with\\na (hetero)arene (e.g. 4) to give the sulfonium salts 7. Selective\\nremoval of the R group by Et2NH reveals the trifluorome-\\nthylthiolated products (e.g. 5). Experimental and computa-\\ntional studies provided support for our proposed mechanism.\\nFirstly, the sulfonium salt 7m was isolated from the reaction\\nbetween p-xylene (4m) and 1b.[15,19] We then modelled the\\ndealkylation step using DFT calculations. These results\\nshowed that the transition state for attack of the amine\\n(Et2NH) at the -CH2CO2Et group lies 40.8 kJmol\\x021 lower in\\nenergy than the transition state for attack at the -CF3 group.\\nIn addition, the expected side-product, Et2NCH2CO2Et (8),\\nwas detected by GCMS. It is likely that attack at the -CF3\\ngroup is disfavored because of unfavorable electrostatic\\ninteractions,[14] though further studies are required to fully\\ndelineate the intricacies of this mechanism. These studies\\nhighlight our unique strategy for trifluoromethylthiolation;\\nwhereas current methods proceed through direct attack of an\\narene on an electrophilic SCF3 reagent,[8] we have introduced\\nalternative reactivity in which the desired connectivity is built,\\nto give 7, before inducing controlled deconstruction and\\nrelease of the desired trifluoromethylthiolated products.\\nScheme 2. Scope[a] of the metal-free C\\x02H trifluoromethylthiolation of\\nheteroarenes. [a] Procedure A, conditions: i) 2 (0.3 mmol, 1.5 equiv),\\n1a (0.2 mmol, 1.0 equiv), Tf2O (0.24 mmol, 1.2 equiv), MeCN (1.0 mL,\\n0.2m) at 08C for 1 h. ii) Et2NH (0.5 mmol, 2.5 equiv). [b] Reaction run\\non a gram scale. [c] Numbers within parenthesis indicate ratio of C2\\nversus C3 trifluoromethylthiolation.\\nAngewandte\\nChemie\\nCommunications\\n15919\\nAngew. Chem. Int. Ed. 2020, 59, 15918 \\xe2\\x80\\x9315922\\n\\x02 2020 The Authors. Published by Wiley-VCH Verlag GmbH & Co. KGaA, Weinheim\\nwww.angewandte.org\\n 15213773, 2020, 37, Downloaded from https://onlinelibrary.wiley.com/doi/10.1002/anie.202005531 by California Digital Library University Of California, Wiley Online Library on [09/05/2025]. See the Terms and Conditions (https://onlinelibrary.wiley.com/terms-and-conditions) on Wiley Online Library for rules of use; OA articles are governed by the applicable Creative Commons License\\n'\n",
      "=============+\n",
      "b'In summary, we have developed a new strategy for the\\nmetal-free C\\x02H trifluoromethylthiolation of (hetero)arenes.\\nIn this process, we utilize the interrupted Pummerer reaction\\nto establish trifluoromethyl sulfoxides as novel trifluorome-\\nthylthiolating agents. Our method for incorporating SCF3\\ncomponents exploits a build-up/deconstruct strategy and is\\nmechanistically distinct from current processes. A variety of\\n(hetero)aromatic compounds underwent efficient trifluoro-\\nmethylthiolation, including drug molecules and natural prod-\\nucts. We expect trifluoromethyl sulfoxides to find application\\nin other trifluoromethylthiolation reactions in the future.\\nAcknowledgements\\nWe thank EPSRC (Postdoctoral Fellowship to D. W.\\xe2\\x80\\x94EP/\\nS014128/1; Established Career Fellowship to D.J.P.\\xe2\\x80\\x94EP/\\nM005062/1) and the University of Manchester (Lectureship\\nto G.J.P.P.) for their generous support.\\nConflict of interest\\nThe authors declare no conflict of interest.\\nKeywords: arenes \\xc2\\xb7 Pummerer reaction \\xc2\\xb7 reaction mechanisms \\xc2\\xb7\\nsulfoxides \\xc2\\xb7 trifluoromethylthiolation\\n[1] S. Purser, P. R. Moore, S. Swallow, V. Gouverneur, Chem. Soc.\\nRev. 2008, 37, 320 \\xe2\\x80\\x93 330.\\n[2] S. Preshlock, M. Tredwell, V. Gouverneur, Chem. Rev. 2016, 116,\\n719 \\xe2\\x80\\x93 766.\\n[3] F. Pertusati, M. Serpi, E. Pileggi, Fluorine in Life Sciences:\\nPharmaceuticals, Medicinal Diagnostics, and Agrochemicals,\\nElsevier, Amsterdam, 2019, pp. 141 \\xe2\\x80\\x93 180.\\n[4] J. E. Sykes, M. G. Papich, Canine and Feline Infectious Diseases,\\nElsevier, Amsterdam, 2014, pp. 97 \\xe2\\x80\\x93 104.\\n[5] G. Landelle, A. Panossian, F. Leroux, Curr. Top. Med. Chem.\\n2014, 14, 941 \\xe2\\x80\\x93 951.\\n[6] a) X. Shao, C. Xu, L. Lu, Q. Shen, Acc. Chem. Res. 2015, 48,\\n1227 \\xe2\\x80\\x93 1236; b) S. Barata-Vallejo, S. Bonesi, A. Postigo, Org.\\nBiomol. Chem. 2016, 14, 7150 \\xe2\\x80\\x93 7182; c) H. Chachignon, D.\\nCahard, Chin. J. Chem. 2016, 34, 445 \\xe2\\x80\\x93 454; d) F. Toulgoat, T.\\nBillard, Modern Synthesis Processes and Reactivity of Fluori-\\nnated Compounds, Elsevier, Amsterdam, 2017, pp. 141 \\xe2\\x80\\x93 179.\\n[7] See ref. [5] and a) R. M. Scribner, J. Org. Chem. 1966, 31, 3671 \\xe2\\x80\\x93\\n3682; b) A. Haas, V. Hellwig, J. Fluorine Chem. 1975, 6, 521 \\xe2\\x80\\x93\\n532; c) T. S. Croft, J. J. McBrady, J. Heterocycl. Chem. 1975, 12,\\n845 \\xe2\\x80\\x93 849; d) J. Mirek, A. Haas, J. Fluorine Chem. 1981, 19, 67 \\xe2\\x80\\x93\\n70; e) M. R. C. Gerstenberger, A. Haas, F. Liebig, J. Fluorine\\nScheme 3. Scope[a] of the metal-free C\\x02H trifluoromethylthiolation of\\narenes. [a] Procedure B, conditions: i) 4 (0.2 mmol, 1.0 equiv), 1b\\n(0.24 mmol, 1.2 equiv), Tf2O (0.3 mmol, 1.5 equiv), MeNO2 (1.0 mL,\\n0.2m) at \\x02258C for 10 min, then at RT for 3 h. ii) Et2NH (0.7 mmol,\\n3.5 equiv) at RT for 15 h. [b] Numbers within parenthesis indicate ratio\\nof C4 versus C2 trifluoromethylthiolation. The major regioisomer is\\nshown. [c] Procedure A (see Scheme 2). [d] See the Supporting Infor-\\nmation for modified reaction stoichiometry. [e] Numbers within paren-\\nthesis indicate ratio of C4 versus C2 trifluoromethylthiolation. The\\nmajor regioisomer is shown. [f] Numbers within parenthesis indicate\\nratio of C1 versus C2 trifluoromethylthiolation. The major regioisomer\\nis shown.\\nScheme 4. A) Proposed mechanism for the trifluoromethylthiolation of\\n(hetero)arenes using sulfoxides. B) Computational investigation of the\\nchemoselective dealkylation. [a] The process was modelled using the\\ncation of 7m. See the Supporting Information for further details.\\nAngewandte\\nChemie\\nCommunications\\n15920\\nwww.angewandte.org\\n\\x02 2020 The Authors. Published by Wiley-VCH Verlag GmbH & Co. KGaA, Weinheim\\nAngew. Chem. Int. Ed. 2020, 59, 15918 \\xe2\\x80\\x9315922\\n 15213773, 2020, 37, Downloaded from https://onlinelibrary.wiley.com/doi/10.1002/anie.202005531 by California Digital Library University Of California, Wiley Online Library on [09/05/2025]. See the Terms and Conditions (https://onlinelibrary.wiley.com/terms-and-conditions) on Wiley Online Library for rules of use; OA articles are governed by the applicable Creative Commons License\\n'\n",
      "=============+\n",
      "b'Chem. 1982, 19, 461 \\xe2\\x80\\x93 474; f) M. R. C. Gerstenberger, A. Haas, J.\\nFluorine Chem. 1983, 23, 525 \\xe2\\x80\\x93 540.\\n[8] Recent selected reports: a) A. Ferry, T. Billard, E. Bacqu\\x02, B. R.\\nLanglois, J. Fluorine Chem. 2012, 134, 160 \\xe2\\x80\\x93 163; b) Y. Yang, X.\\nJiang, F.-L. Qing, J. Org. Chem. 2012, 77, 7538 \\xe2\\x80\\x93 7547; c) C. Xu, B.\\nMa, Q. Shen, Angew. Chem. Int. Ed. 2014, 53, 9316 \\xe2\\x80\\x93 9320;\\nAngew. Chem. 2014, 126, 9470 \\xe2\\x80\\x93 9474; d) S. Alazet, T. Billard,\\nSynlett 2015, 26, 76 \\xe2\\x80\\x93 78; e) S. Alazet, L. Zimmer, T. Billard, J.\\nFluorine Chem. 2015, 171, 78 \\xe2\\x80\\x93 81; f) Q. Glenadel, S. Alazet, T.\\nBillard, J. Fluorine Chem. 2015, 179, 89 \\xe2\\x80\\x93 95; g) R. Honeker, J. B.\\nErnst, F. Glorius, Chem. Eur. J. 2015, 21, 8047 \\xe2\\x80\\x93 8051; h) M.\\nJereb, K. Gosak, Org. Biomol. Chem. 2015, 13, 3103 \\xe2\\x80\\x93 3115; i) Q.\\nWang, Z. Qi, F. Xie, X. Li, Adv. Synth. Catal. 2015, 357, 355 \\xe2\\x80\\x93 360;\\nj) P. Zhang, M. Li, X.-S. Xue, C. Xu, Q. Zhao, Y. Liu, H. Wang, Y.\\nGuo, L. Lu, Q. Shen, J. Org. Chem. 2016, 81, 7486 \\xe2\\x80\\x93 7509; k) J. B.\\nErnst, L. Rakers, F. Glorius, Synthesis 2017, 49, 260 \\xe2\\x80\\x93 268; l) S.\\nKov\\x03cs, B. Bayarmagnai, L. J. Goossen, Adv. Synth. Catal. 2017,\\n359, 250 \\xe2\\x80\\x93 254; m) C. J. Nalbandian, E. M. Miller, S. T. Toenjes,\\nJ. L.\\nGustafson,\\nChem.\\nCommun.\\n2017,\\n53,\\n1494 \\xe2\\x80\\x93 1497;\\nn) L. J. C. Bonazaba Milandou, H. Carreyre, S. Alazet, G.\\nGreco, A. Martin-Mingot, C. Nkounkou Loumpangou, J.-M.\\nOuamba, F. Bouazza, T. Billard, S. Thibaudeau, Angew. Chem.\\nInt. Ed. 2017, 56, 169 \\xe2\\x80\\x93 172; Angew. Chem. 2017, 129, 175 \\xe2\\x80\\x93 178;\\no) M. Horvat, M. Jereb, J. Iskra, Eur. J. Org. Chem. 2018, 3837 \\xe2\\x80\\x93\\n3843; p) C. J. Nalbandian, Z. E. Brown, E. Alvarez, J. L.\\nGustafson, Org. Lett. 2018, 20, 3211 \\xe2\\x80\\x93 3214; q) S. Lu, W. Chen,\\nQ. Shen, Chin. Chem. Lett. 2019, 30, 2279 \\xe2\\x80\\x93 2281; r) S. Liu, X.\\nZeng, B. Xu, Asian J. Org. Chem. 2019, 8, 1372 \\xe2\\x80\\x93 1375; s) X.\\nShao, X. Wang, T. Yang, L. Lu, Q. Shen, Angew. Chem. Int. Ed.\\n2013, 52, 3457 \\xe2\\x80\\x93 3460; Angew. Chem. 2013, 125, 3541 \\xe2\\x80\\x93 3544; t) X.\\nShao, C. Xu, L. Lu, Q. Shen, J. Org. Chem. 2015, 80, 3012 \\xe2\\x80\\x93 3021;\\nu) B. Ma, X. Shao, Q. Shen, J. Fluorine Chem. 2015, 171, 73 \\xe2\\x80\\x93 77;\\nv) X.-G. Yang, K. Zheng, C. Zhang, Org. Lett. 2020, 22, 2026 \\xe2\\x80\\x93\\n2031; w) H. Chachignon, M. Maeno, H. Kondo, N. Shibata, D.\\nCahard, Org. Lett. 2016, 18, 2467 \\xe2\\x80\\x93 2470; x) Q. Yan, L. Jiang, W.\\nYi, Q. Liu, W. Zhang, Adv. Synth. Catal. 2017, 359, 2471 \\xe2\\x80\\x93 2480;\\ny) M.-J. Bu, G.-P. Lu, C. Cai, Org. Chem. Front. 2017, 4, 266 \\xe2\\x80\\x93\\n270; z) X. Zhao, X. Zheng, M. Tian, J. Sheng, Y. Tong, K. Lu,\\nTetrahedron 2017, 73, 7233 \\xe2\\x80\\x93 7238; aa) D.-W. Sun, X. Jiang, M.\\nJiang, Y. Lin, J.-T. Liu, Eur. J. Org. Chem. 2017, 3505 \\xe2\\x80\\x93 3511;\\nab) J. Liu, X. Zhao, L. Jiang, W. Yi, Adv. Synth. Catal. 2018, 360,\\n4012 \\xe2\\x80\\x93 4016.\\n[9] Interrupted Pummerer reactions with carbon nucleophiles:\\na) A. J. Eberhart, J. E. Imbriglio, D. J. Procter, Org. Lett. 2011,\\n13, 5882 \\xe2\\x80\\x93 5885; b) A. J. Eberhart, C. Cicoira, D. J. Procter, Org.\\nLett. 2013, 15, 3994 \\xe2\\x80\\x93 3997; c) J. A. Fern\\x03ndez-Salas, A. P. Pulis,\\nD. J. Procter, Chem. Commun. 2016, 52, 12364 \\xe2\\x80\\x93 12367; d) H. J.\\nShrives, J. A. Fern\\x03ndez-Salas, C. Hedtke, A. P. Pulis, D. J.\\nProcter, Nat. Commun. 2017, 8, 14801; e) M. S\\xcb\\x87iauc\\xcb\\x87iulis, S.\\nSapmaz, A. P. Pulis, D. J. Procter, Chem. Sci. 2018, 9, 754 \\xe2\\x80\\x93 759;\\nf) Z. He, H. J. Shrives, J. A. Fern\\x03ndez-Salas, A. Abeng\\x04zar, J.\\nNeufeld, K. Yang, A. P. Pulis, D. J. Procter, Angew. Chem. Int.\\nEd. 2018, 57, 5759 \\xe2\\x80\\x93 5764; Angew. Chem. 2018, 130, 5861 \\xe2\\x80\\x93 5866;\\ng) M. S\\xcb\\x87iauc\\xcb\\x87iulis, N. Ahlsten, A. P. Pulis, D. J. Procter, Angew.\\nChem. Int. Ed. 2019, 58, 8779 \\xe2\\x80\\x93 8783; Angew. Chem. 2019, 131,\\n8871 \\xe2\\x80\\x93 8875; h) J. Yan, A. P. Pulis, G. J. P. Perry, D. J. Procter,\\nAngew. Chem. Int. Ed. 2019, 58, 15675 \\xe2\\x80\\x93 15679; Angew. Chem.\\n2019, 131, 15822 \\xe2\\x80\\x93 15826; i) M. H. Aukland, M. S\\xcb\\x87iauc\\xcb\\x87iulis, A.\\nWest, G. J. P. Perry, D. J. Procter, Nat. Catal. 2020, 3, 163 \\xe2\\x80\\x93 169.\\n[10] Selected intermolecular interrupted Pummerer chemistry with\\ncarbon nucleophiles: a) V. G. Nenajdenko, P. V. Vertelezkij, E. S.\\nBalenkova, Sulfur Lett. 1996, 20, 75 \\xe2\\x80\\x93 84; b) V. G. Nenajdenko,\\nP. V. Vertelezkij, I. D. Gridnev, N. E. Shevchenko, E. S. Balen-\\nkova, Tetrahedron 1997, 53, 8173 \\xe2\\x80\\x93 8180; c) V. G. Nenajdenko,\\nP. V. Vertelezkij, E. S. Balenkova, Synthesis 1997, 351 \\xe2\\x80\\x93 355;\\nd) N. E. Shevchenko, A. S. Karpov, E. P. Zakurdaev, V. G.\\nNenajdenko, E. S. Balenkova, Chem. Heterocycl. Compd. 2000,\\n36, 137 \\xe2\\x80\\x93 143; e) N. E. Shevchenko, V. G. Nenajdenko, E. S.\\nBalenkova, Synthesis 2003, 1191 \\xe2\\x80\\x93 1200; f) J-I. Matsuo, H.\\nYamanaka, A. Kawana, T. Mukaiyama, Chem. Lett. 2003, 32,\\n392 \\xe2\\x80\\x93 393; g) T. Shoji, J. Higashi, S. Ito, K. Toyota, T. Asao, M.\\nYasunami, K. Fujimori, N. Morita, Eur. J. Org. Chem. 2008,\\n1242 \\xe2\\x80\\x93 1252; h) S. Yoshida, H. Yorimitsu, K. Oshima, Org. Lett.\\n2009, 11, 2185 \\xe2\\x80\\x93 2188; i) K. Higuchi, M. Tayu, T. Kawasaki,\\nChem. Commun. 2011, 47, 6728 \\xe2\\x80\\x93 6730; j) X. Huang, M. Patil, C.\\nFar\\x05s, W. Thiel, N. Maulide, J. Am. Chem. Soc. 2013, 135, 7312 \\xe2\\x80\\x93\\n7323; k) M. Tayu, K. Higuchi, M. Inaba, T. Kawasaki, Org.\\nBiomol. Chem. 2013, 11, 496 \\xe2\\x80\\x93 502; l) M. Tayu, K. Higuchi, T.\\nIshizaki, T. Kawasaki, Org. Lett. 2014, 16, 3613 \\xe2\\x80\\x93 3615; m) M.\\nTayu, T. Ishizaki, K. Higuchi, T. Kawasaki, Org. Biomol. Chem.\\n2015, 13, 3863 \\xe2\\x80\\x93 3865; n) P. Cowper, Y. Jin, M. D. Turton, G.\\nKociok-K\\xc3\\xa7hn, S. E. Lewis, Angew. Chem. Int. Ed. 2016, 55,\\n2564 \\xe2\\x80\\x93 2568; Angew. Chem. 2016, 128, 2610 \\xe2\\x80\\x93 2614; o) M. Tayu, Y.\\nSuzuki, K. Higuchi, T. Kawasaki, Synlett 2016, 27, 941 \\xe2\\x80\\x93 945; p) I.\\nKlose, A. Misale, N. Maulide, J. Org. Chem. 2016, 81, 7201 \\xe2\\x80\\x93\\n7210; q) M. Tayu, K. Nomura, K. Kawachi, K. Higuchi, N. Saito,\\nT. Kawasaki, Chem. Eur. J. 2017, 23, 10925 \\xe2\\x80\\x93 10930; r) H.\\nKawashima, T. Yanagi, C.-C. Wu, K. Nogi, H. Yorimitsu, Org.\\nLett. 2017, 19, 4552 \\xe2\\x80\\x93 4555; s) G. Hu, J. Xu, P. Li, Org. Chem.\\nFront. 2018, 5, 2167 \\xe2\\x80\\x93 2170; t) K. Higuchi, T. Tago, Y. Kokubo, M.\\nIto, M. Tayu, S. Sugiyama, T. Kawasaki, Org. Chem. Front. 2018,\\n5, 3219 \\xe2\\x80\\x93 3225; u) B. Waldecker, F. Kraft, C. Golz, M. Alcarazo,\\nAngew. Chem. Int. Ed. 2018, 57, 12538 \\xe2\\x80\\x93 12542; Angew. Chem.\\n2018, 130, 12718 \\xe2\\x80\\x93 12722; v) Z. Zhang, P. He, H. Du, J. Xu, P. Li,\\nJ. Org. Chem. 2019, 84, 4517 \\xe2\\x80\\x93 4524; w) Z. Zhang, Y. Luo, H. Du,\\nJ. Xu, P. Li, Chem. Sci. 2019, 10, 5156 \\xe2\\x80\\x93 5161; x) X. Li, C. Golz, M.\\nAlcarazo, Angew. Chem. Int. Ed. 2019, 58, 9496 \\xe2\\x80\\x93 9500; Angew.\\nChem. 2019, 131, 9596 \\xe2\\x80\\x93 9600; y) F. Berger, M. B. Plutschack, J.\\nRiegger, W. Yu, S. Speicher, M. Ho, N. Frank, T. Ritter, Nature\\n2019, 567, 223 \\xe2\\x80\\x93 228; z) K. Kafuta, A. Korzun, M. B\\xc3\\xa7hm, C. Golz,\\nM. Alcarazo, Angew. Chem. Int. Ed. 2020, 59, 1950 \\xe2\\x80\\x93 1955;\\nAngew. Chem. 2020, 132, 1966 \\xe2\\x80\\x93 1971.\\n[11] a) A. P. Pulis, D. J. Procter, Angew. Chem. Int. Ed. 2016, 55,\\n9842 \\xe2\\x80\\x93 9860; Angew. Chem. 2016, 128, 9996 \\xe2\\x80\\x93 10014; b) T. Yanagi,\\nK. Nogi, H. Yorimitsu, Tetrahedron Lett. 2018, 59, 2951 \\xe2\\x80\\x93 2959;\\nc) D. Kaiser, I. Klose, R. Oost, J. Neuhaus, N. Maulide, Chem.\\nRev. 2019, 119, 8701 \\xe2\\x80\\x93 8780.\\n[12] Sulfoxide 1b has not previously been prepared; a) R. M.\\nDeMarinis, J. R. E. Hoover, G. L. Dunn, P. Actor, J. V. Uri,\\nJ. A. Weisbach, J. Antibiot. 1975, 28, 463 \\xe2\\x80\\x93 470; b) L. V. Soko-\\nlenko, Y. L. Yagupolskii, L. S. Kumanetska, J. Marrot, E.\\nMagnier, V. O. Lipetskij, I. V. Kalinin, Tetrahedron Lett. 2017,\\n58, 1308 \\xe2\\x80\\x93 1311; c) L. V. Sokolenko, R. K. Orlova, A. A. Filatov,\\nY. L. Yagupolskii, E. Magnier, B. P\\x02got, P. Diter, Molecules\\n2019, 24, 1249. For procedures related to the synthesis of 1a see\\nref. [12c].\\n[13] For the use of trifluoromethyl sulfoxides in trifluoromethylation,\\nsee: a) G. K. S. Prakash, J. Hu, G. A. Olah, Org. Lett. 2003, 5,\\n3253 \\xe2\\x80\\x93 3256; b) X. Li, J. Zhao, L. Zhang, M. Hu, L. Wang, J. Hu,\\nOrg. Lett. 2015, 17, 298 \\xe2\\x80\\x93 301.\\n[14] H. Martinez, A. Rebeyrol, T. B. Nelms, W. R. Dolbier, J.\\nFluorine Chem. 2012, 135, 167 \\xe2\\x80\\x93 175.\\n[15] Deposition Numbers 1993042 (for 1a), and 1993043 (for 7m)\\ncontain the supplementary crystallographic data for this paper.\\nThese data are provided free of charge by the joint Cambridge\\nCrystallographic Data Centre and Fachinformationszentrum\\nKarlsruhe\\nAccess\\nStructures\\nservice\\nwww.ccdc.cam.ac.uk/\\nstructures.\\n[16] See the Supporting Information for details of the optimization.\\nWhen reacting the indole 2l with 1b, product 3l was formed in\\n17% yield. When reacting the arene 4m with 1a, product 5m\\nwas formed in 7% yield. This suggests that less nucleophilic\\narenes (4) require the presumably more electrophilic sulfoxide\\nAngewandte\\nChemie\\nCommunications\\n15921\\nAngew. Chem. Int. Ed. 2020, 59, 15918 \\xe2\\x80\\x9315922\\n\\x02 2020 The Authors. Published by Wiley-VCH Verlag GmbH & Co. KGaA, Weinheim\\nwww.angewandte.org\\n 15213773, 2020, 37, Downloaded from https://onlinelibrary.wiley.com/doi/10.1002/anie.202005531 by California Digital Library University Of California, Wiley Online Library on [09/05/2025]. See the Terms and Conditions (https://onlinelibrary.wiley.com/terms-and-conditions) on Wiley Online Library for rules of use; OA articles are governed by the applicable Creative Commons License\\n'\n",
      "=============+\n",
      "b'1b to react. However, further studies are required to fully\\nunderstand the differing reactivity.\\n[17] The reaction with benzene gave only a trace amount of product.\\n[18] Preliminary results suggest that some amines, for example, NPh3,\\nare tolerated. See the Supporting Information.\\n[19] For a review on trifluoromethylsulfonium salts see: N. Shibata,\\nA. Matsnev, D. Cahard, Beilstein J. Org. Chem. 2010, 6, 65.\\nManuscript received: April 16, 2020\\nRevised manuscript received: May 21, 2020\\nAccepted manuscript online: May 28, 2020\\nVersion of record online: July 15, 2020\\nAngewandte\\nChemie\\nCommunications\\n15922\\nwww.angewandte.org\\n\\x02 2020 The Authors. Published by Wiley-VCH Verlag GmbH & Co. KGaA, Weinheim\\nAngew. Chem. Int. Ed. 2020, 59, 15918 \\xe2\\x80\\x9315922\\n 15213773, 2020, 37, Downloaded from https://onlinelibrary.wiley.com/doi/10.1002/anie.202005531 by California Digital Library University Of California, Wiley Online Library on [09/05/2025]. See the Terms and Conditions (https://onlinelibrary.wiley.com/terms-and-conditions) on Wiley Online Library for rules of use; OA articles are governed by the applicable Creative Commons License\\n'\n"
     ]
    }
   ],
   "source": [
    "import pymupdf # imports the pymupdf library\n",
    "\n",
    "path = \"/home/erick/Projects/kaggle-make-data-count/data/train/PDF/10.1002_anie.202005531.pdf\"\n",
    "doc = pymupdf.open(filename = path, filetype = \"pdf\") # open a document\n",
    "for page in doc: # iterate the document pages\n",
    "  text = page.get_text().encode(\"utf8\")#.decode('ascii') # get plain text encoded as UTF-8\n",
    "  print(\"=============+\")\n",
    "  print(text)"
   ]
  }
 ],
 "metadata": {
  "kernelspec": {
   "display_name": "Python 3 (ipykernel)",
   "language": "python",
   "name": "python3"
  },
  "language_info": {
   "codemirror_mode": {
    "name": "ipython",
    "version": 3
   },
   "file_extension": ".py",
   "mimetype": "text/x-python",
   "name": "python",
   "nbconvert_exporter": "python",
   "pygments_lexer": "ipython3",
   "version": "3.11.13"
  }
 },
 "nbformat": 4,
 "nbformat_minor": 5
}
